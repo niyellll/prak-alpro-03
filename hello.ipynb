{
 "cells": [
  {
   "cell_type": "markdown",
   "metadata": {},
   "source": [
    "Soal 1\n",
    "Latihan 3.1 Implementasikan penanganan kesalahan input pengguna dari program-program\n",
    "pada Contoh 3.1, 3.2 dan 3.3."
   ]
  },
  {
   "cell_type": "code",
   "execution_count": 3,
   "metadata": {},
   "outputs": [
    {
     "name": "stdout",
     "output_type": "stream",
     "text": [
      "Bilangan terbesar:  9.0\n"
     ]
    }
   ],
   "source": [
    "try:\n",
    "    # Input tiga bilangan \n",
    "    a = float(input(\"Masukkan bilangan pertama: \"))\n",
    "    b = float(input(\"Masukkan bilangan kedua: \"))\n",
    "    c = float(input(\"Masukkan bilangan ketiga: \"))\n",
    "\n",
    "    if a > b and a > c:\n",
    "        print(\"Bilangan terbesar: \", a)\n",
    "    elif b > a and b > c:\n",
    "        print(\"Bilangan terbesar: \", b)\n",
    "    elif c > a and c > b:\n",
    "        print(\"Bilangan terbesar: \", c)\n",
    "    else:\n",
    "        print(\"Tidak ada bilangan terbesar yang jelas.\")\n",
    "except :\n",
    "    print(\"Masukkan bilangan yang valid.\")\n"
   ]
  },
  {
   "cell_type": "markdown",
   "metadata": {},
   "source": [
    "Latihan 3.2 Implementasikan percabangan pada Contoh 3.2 (Positif-Negatif) menggunakan\n",
    "ternary operator"
   ]
  },
  {
   "cell_type": "code",
   "execution_count": 4,
   "metadata": {},
   "outputs": [
    {
     "name": "stdout",
     "output_type": "stream",
     "text": [
      "Bilangan positif\n"
     ]
    }
   ],
   "source": [
    "try:\n",
    "    bilangan = float(input(\"Masukkan suatu bilangan: \"))\n",
    "    print(\"Bilangan positif\" if bilangan > 0 else \"Bilangan negatif\" if bilangan < 0 else \"Nol\")\n",
    "except :\n",
    "    print(\"Masukkan bilangan yang valid.\")\n"
   ]
  },
  {
   "cell_type": "markdown",
   "metadata": {},
   "source": [
    "Latihan 3.3 Buatlah sebuah program yang dapat menampilkan jumlah hari dalam suatu bulan di\n",
    "tahun 2020. Program meminta pengguna memasukkan nomor bulan (1-12), kemudian program\n",
    "akan menampilkan jumlah hari pada bulan tersebut. Sebagai contoh, perhatikan input dan output\n",
    "berikut ini:\n",
    "Masukkan bulan (1-12): 7\n",
    "Jumlah hari: 31\n",
    "Lengkapi program tersebut dengan penanganan kesalahan jika pengguna memasukkan bulan\n",
    "yang salah. Penanganan kesalahan dalam bentuk memunculkan pesan bahwa bulan yang\n",
    "diinputkan oleh pengguna tersebut tidak valid."
   ]
  },
  {
   "cell_type": "code",
   "execution_count": 5,
   "metadata": {},
   "outputs": [
    {
     "name": "stdout",
     "output_type": "stream",
     "text": [
      "Jumlah hari dalam bulan tersebut adalah: 29\n"
     ]
    }
   ],
   "source": [
    "def get_days_in_month(month):\n",
    "    days_in_month = {\n",
    "        1: 31,  # Januari\n",
    "        2: 29,  # Februari pada tahun kabisat (2020 adalah tahun kabisat)\n",
    "        3: 31,  # Maret\n",
    "        4: 30,  # April\n",
    "        5: 31,  # Mei\n",
    "        6: 30,  # Juni\n",
    "        7: 31,  # Juli\n",
    "        8: 31,  # Agustus\n",
    "        9: 30,  # September\n",
    "        10: 31,  # Oktober\n",
    "        11: 30,  # November\n",
    "        12: 31   # Desember\n",
    "    }\n",
    "    return days_in_month.get(month, None)  \n",
    "\n",
    "\n",
    "try:\n",
    "    month_input = int(input(\"Masukkan nomor bulan (1-12): \"))\n",
    "    if 1 <= month_input <= 12:\n",
    "        days = get_days_in_month(month_input)\n",
    "        if days is not None:\n",
    "            print(\"Jumlah hari dalam bulan tersebut adalah:\", days)\n",
    "        else:\n",
    "            print(\"Nomor bulan yang dimasukkan tidak valid.\")\n",
    "    else:\n",
    "        print(\"Masukkan nomor bulan antara 1 hingga 12.\")\n",
    "except:\n",
    "    print(\"Terjadi kesalahan saat memproses input. Pastikan Anda memasukkan angka yang valid.\")\n"
   ]
  },
  {
   "cell_type": "markdown",
   "metadata": {},
   "source": [
    "Latihan 3.4 Sebuah program meminta pengguna memasukkan ketiga panjang sisi suatu segitiga\n",
    "(berarti pengguna memasukkan tiga bilangan). Jika ketiga sisi segitiga tersebut semuanya sama,\n",
    "tampilkan pesan: \"3 sisi sama\". Jika hanya ada dua sisi yang sama panjang, tampilkan pesan \"2\n",
    "sisi sama\". Jika tidak ada yang sama maka tampilkan pesan: \"Tidak ada yang sama\". Sebagai\n",
    "contoh, perhatikan input dan output berikut ini:\n",
    "Masukkan sisi 1: 14\n",
    "Masukkan sisi 2: 18\n",
    "Masukkan sisi 3: 11\n",
    "Tidak ada yang sama\n",
    "Masukkan sisi 1: 22\n",
    "Masukkan sisi 2: 22\n",
    "Masukkan sisi 3: 22\n",
    "3 sisi sama\n",
    "Masukkan sisi 1: 8\n",
    "Masukkan sisi 2: 9\n",
    "Masukkan sisi 3: 8\n",
    "2 sisi sama\n",
    "Lengkapi program tersebut dengan penanganan kesalahan jika pengguna memasukkan input\n",
    "yang tidak valid."
   ]
  },
  {
   "cell_type": "code",
   "execution_count": 6,
   "metadata": {},
   "outputs": [
    {
     "name": "stdout",
     "output_type": "stream",
     "text": [
      "3 sisi sama\n"
     ]
    }
   ],
   "source": [
    "try:\n",
    "    sisi1 = float(input(\"Masukkan sisi 1: \"))\n",
    "    sisi2 = float(input(\"Masukkan sisi 2: \"))\n",
    "    sisi3 = float(input(\"Masukkan sisi 3: \"))\n",
    "\n",
    "    hasil = \"3 sisi sama\" if sisi1 == sisi2 == sisi3 else \"2 sisi sama\" if sisi1 == sisi2 or sisi1 == sisi3 or sisi2 == sisi3 else \"Tidak ada yang sama\"\n",
    "    print(hasil)\n",
    "except:\n",
    "    print(\"Terjadi kesalahan saat memproses input. Pastikan Anda memasukkan bilangan yang valid untuk panjang sisi.\")"
   ]
  }
 ],
 "metadata": {
  "kernelspec": {
   "display_name": "base",
   "language": "python",
   "name": "python3"
  },
  "language_info": {
   "codemirror_mode": {
    "name": "ipython",
    "version": 3
   },
   "file_extension": ".py",
   "mimetype": "text/x-python",
   "name": "python",
   "nbconvert_exporter": "python",
   "pygments_lexer": "ipython3",
   "version": "3.11.5"
  }
 },
 "nbformat": 4,
 "nbformat_minor": 2
}
